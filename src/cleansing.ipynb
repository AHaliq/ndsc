{
 "cells": [
  {
   "cell_type": "code",
   "execution_count": 1,
   "metadata": {
    "collapsed": true
   },
   "outputs": [],
   "source": [
    "import numpy as np\n",
    "import pandas as pd\n",
    "import csv\n",
    "import matplotlib.pyplot as plt\n",
    "\n",
    "data_src = '../data/source/'\n",
    "data_clean = '../data/clean/'\n",
    "data_secondary = '../data/secondary/'\n",
    "df = pd.read_csv(data_src+\"train.csv\") \n",
    "cat = pd.read_json(data_src+'categories.json')\n",
    "\n",
    "def gen_barchart(categories):\n",
    "    categories_map = {}\n",
    "    for category in categories:\n",
    "        if category not in categories_map:\n",
    "            categories_map[category]=0\n",
    "        categories_map[category]=categories_map[category] + 1\n",
    "\n",
    "    keys = categories_map.keys()\n",
    "    value = []\n",
    "    for i in range(0, len(keys)):\n",
    "         value.append(categories_map[i])\n",
    "\n",
    "    plt.bar(keys, value, label='keys')\n",
    "    plt.xlabel('category index')\n",
    "    plt.ylabel('popln')\n",
    "    plt.show()\n",
    "    \n"
   ]
  },
  {
   "cell_type": "code",
   "execution_count": 2,
   "metadata": {
    "collapsed": true
   },
   "outputs": [],
   "source": [
    "recont_feature_const = {\n",
    "    'group':{\n",
    "        'go_in':True, # will generate extra feature 'group'\n",
    "        'save':True # will save to file train_group.csv\n",
    "    },\n",
    "    'english':{\n",
    "        'go_in':True, # will generate extra feature 'english'\n",
    "        'save':True, # will save to file train_english.csv or train_english_group.csv(if group is set to true)\n",
    "        'translate': True # will translate non-english to english\n",
    "    },\n",
    "    'split_eng_noneng':{\n",
    "        'go_in':True, # will improve on current feature 'title'\n",
    "        'save':True # will save to file nonenglish.csv and english.csv\n",
    "    },\n",
    "    'undersample':{\n",
    "        'go_in':True,\n",
    "        'save':True\n",
    "    },\n",
    "    'oversample':{\n",
    "        'go_in':True,\n",
    "        'save':True\n",
    "    },\n",
    "    'extracttitles':{ # this will auto save\n",
    "        'go_in':True,\n",
    "    },\n",
    "    'mergetranslatedtitle':{\n",
    "        'go_in':True,\n",
    "    }\n",
    "}\n"
   ]
  },
  {
   "cell_type": "code",
   "execution_count": 3,
   "metadata": {
    "collapsed": true
   },
   "outputs": [],
   "source": [
    "df = df.sort_values('Category') # sort df based on Category\n",
    "\n",
    "categories = df.Category\n",
    "categories_map = {}\n",
    "for category in categories:\n",
    "    if category not in categories_map:\n",
    "        categories_map[category]=0\n",
    "    categories_map[category]=categories_map[category] + 1\n",
    "\n",
    "keys = categories_map.keys()\n",
    "categorized_df_arr = [] \n",
    "start=0\n",
    "for key in keys: # assign df(elem) based on category id(arr index)\n",
    "    end = categories_map[key]+start\n",
    "    categorized_df_arr.append(df.iloc[start:end])\n",
    "    start = end\n",
    "\n",
    "new_df  = pd.DataFrame(columns = ['itemid','title','Category','image_path'])"
   ]
  },
  {
   "cell_type": "markdown",
   "metadata": {},
   "source": [
    "# Init df"
   ]
  },
  {
   "cell_type": "code",
   "execution_count": 4,
   "metadata": {
    "collapsed": true
   },
   "outputs": [],
   "source": [
    "if recont_feature_const['group'] and recont_feature_const['english'] : \n",
    "    new_df  = pd.DataFrame(columns = ['itemid','title','Category','image_path','group', 'english'])\n",
    "elif recont_feature_const['group']:\n",
    "    new_df  = pd.DataFrame(columns = ['itemid','title','Category','image_path','group'])\n",
    "elif recont_feature_const['english']:\n",
    "    new_df  = pd.DataFrame(columns = ['itemid','title','Category','image_path','english'])    "
   ]
  },
  {
   "cell_type": "markdown",
   "metadata": {},
   "source": [
    "# Generate group feature "
   ]
  },
  {
   "cell_type": "code",
   "execution_count": 5,
   "metadata": {},
   "outputs": [
    {
     "name": "stdout",
     "output_type": "stream",
     "text": [
      "<---- start group ---->\n",
      "<---- end group ---->\n"
     ]
    }
   ],
   "source": [
    "if recont_feature_const['group']['go_in']:\n",
    "    print('<---- start group ---->')\n",
    "    new_df  = pd.DataFrame(columns = ['itemid','title','Category','image_path', 'group'])\n",
    "    \n",
    "    cgmap = {}\n",
    "    for i in cat['Mobile'].unique():\n",
    "        cgmap[i] = 0\n",
    "    for i in cat['Fashion'].unique():\n",
    "        cgmap[i] = 1\n",
    "    for i in cat['Beauty'].unique():\n",
    "        cgmap[i] = 2\n",
    "    def getGroup(c):\n",
    "        return cgmap[c]\n",
    "    # get group from category\n",
    "    \n",
    "    data = pd.read_csv(data_src+\"train.csv\")\n",
    "    data['group'] = data.apply(lambda row: getGroup(row['Category']), axis=1)\n",
    "    # add new column\n",
    "    if recont_feature_const['group']['save']:\n",
    "        data.to_csv(data_secondary+'train_group.csv',mode = 'w', index=False)\n",
    "    \n",
    "    new_df = data\n",
    "    print('<---- end group ---->')\n"
   ]
  },
  {
   "cell_type": "markdown",
   "metadata": {},
   "source": [
    "# Generate english feature "
   ]
  },
  {
   "cell_type": "code",
   "execution_count": 6,
   "metadata": {},
   "outputs": [
    {
     "name": "stdout",
     "output_type": "stream",
     "text": [
      "<---- start english ---->\n",
      "<---- end english ---->\n"
     ]
    }
   ],
   "source": [
    "if recont_feature_const['english']['go_in']:\n",
    "    # need pip install langid\n",
    "    import langid\n",
    "    print('<---- start english ---->')\n",
    "\n",
    "    def runEngTest(title):\n",
    "        return langid.classify(title)[0]=='en' # return true or false\n",
    "    \n",
    "    data = pd.read_csv(data_src + \"train.csv\")\n",
    "    new_df['english'] = data.apply(lambda row: runEngTest(row['title']), axis=1)\n",
    "\n",
    "    if recont_feature_const['english']['save'] and recont_feature_const['group'] :\n",
    "        new_df.to_csv(data_secondary+'train_group_english.csv',mode = 'w', index=False) \n",
    "    else:\n",
    "        new_df.to_csv(data_secondary+'train_english.csv',mode = 'w', index=False) \n",
    "    \n",
    "    print('<---- end english ---->')\n"
   ]
  },
  {
   "cell_type": "markdown",
   "metadata": {},
   "source": [
    "# split data to eng and noneng"
   ]
  },
  {
   "cell_type": "code",
   "execution_count": 7,
   "metadata": {},
   "outputs": [
    {
     "name": "stdout",
     "output_type": "stream",
     "text": [
      "no error\n",
      "non-english 420435\n",
      "      itemid                                              title  Category  \\\n",
      "0     307504               nyx sex bomb pallete natural palette         0   \n",
      "10  11016411                        monistat chafing relief gel         4   \n",
      "13  14733804               laneige water base cc cream spf36 pa         5   \n",
      "14  14954162  giordani gold age defying compact foundation d...         1   \n",
      "16  16397989  lancome blush subtil long lasting powder blush...         2   \n",
      "\n",
      "                                           image_path  group  english  \n",
      "0   beauty_image/6b2e9cbb279ac95703348368aa65da09.jpg      2    False  \n",
      "10  beauty_image/b9c7520d1e7db646f3fd9a506bf217d2.jpg      2    False  \n",
      "13  beauty_image/df301ccce6dfdf8afbe92e29355c8a38.jpg      2    False  \n",
      "14  beauty_image/be2218804c9f47e0a52fa49e818d9867.jpg      2    False  \n",
      "16  beauty_image/0025491eaeb55e40166dce7249ca24a4.jpg      2    False  \n",
      "english 420435\n",
      "    itemid                                              title  Category  \\\n",
      "1   461203  etude house precious mineral any cushion pearl...         1   \n",
      "2  3592295                           milani rose powder blush         2   \n",
      "3  4460167                etude house baby sweet sugar powder         3   \n",
      "4  5853995       bedak revlon color stay aqua mineral make up         3   \n",
      "5  6208490                            dr pure whitening cream         4   \n",
      "\n",
      "                                          image_path  group  english  \n",
      "1  beauty_image/20450222d857c9571ba8fa23bdedc8c9.jpg      2     True  \n",
      "2  beauty_image/6a5962bed605a3dd6604ca3a4278a4f9.jpg      2     True  \n",
      "3  beauty_image/56987ae186e8a8e71fcc5a261ca485da.jpg      2     True  \n",
      "4  beauty_image/9c6968066ebab57588c2f757a240d8b9.jpg      2     True  \n",
      "5  beauty_image/77e6b7e9d5544adbfda6809b2351c4fa.jpg      2     True  \n"
     ]
    }
   ],
   "source": [
    "if recont_feature_const['split_eng_noneng']['go_in']:\n",
    "    try:\n",
    "        \n",
    "        print('no error')\n",
    "        curr_df = pd.read_csv(data_secondary+\"train_group_english.csv\")\n",
    "        \n",
    "        noneng = curr_df[curr_df['english'] == False]\n",
    "        print( 'non-english ' + str(len(noneng)))\n",
    "        print(noneng.head())\n",
    "        \n",
    "        eng = curr_df[curr_df['english'] == True]\n",
    "        print( 'english ' + str(len(noneng)))\n",
    "        print(eng.head())\n",
    "\n",
    "        noneng.to_csv(data_secondary+'nonenglish.csv',mode = 'w', index=False) \n",
    "        eng.to_csv(data_secondary+'english.csv',mode = 'w', index=False) \n",
    "        \n",
    "    except:\n",
    "        print('error')\n",
    "        curr_df = pd.read_csv(data_secondary+\"train_english.csv\")\n",
    "        \n",
    "        noneng = curr_df[curr_df['english'] == False]\n",
    "        eng = curr_df[curr_df['english'] == True]\n",
    "\n",
    "        noneng.to_csv(data_secondary+'nonenglish.csv',mode = 'w', index=False) \n",
    "        eng.to_csv(data_secondary+'english.csv',mode = 'w', index=False) \n",
    "        "
   ]
  },
  {
   "cell_type": "markdown",
   "metadata": {},
   "source": [
    "# Undersample "
   ]
  },
  {
   "cell_type": "code",
   "execution_count": 14,
   "metadata": {},
   "outputs": [
    {
     "name": "stdout",
     "output_type": "stream",
     "text": [
      "<---- start undersampling ---->\n",
      "<--processing feature0-->\n",
      "<--processing feature1-->\n",
      "<--processing feature2-->\n",
      "<---- end undersampling ---->\n"
     ]
    }
   ],
   "source": [
    "def undersample(categorized_df_arr, cat_to_undersample, save_dir):\n",
    "    print('<---- start undersampling ---->')\n",
    "    for i in range(0, len(cat_to_undersample)):\n",
    "        print('<--processing feature'+str(i) + '-->')\n",
    "        index = cat_to_undersample[i][0]\n",
    "        frac = cat_to_undersample[i][1]\n",
    "        categorized_df_arr[index] = categorized_df_arr[index].sample(frac=frac, replace=True)\n",
    "    print('<---- end undersampling ---->')\n",
    "    return categorized_df_arr\n",
    "    \n",
    "if recont_feature_const['undersample']['go_in']:\n",
    "    categories_to_undersample = [ #[feature cat, percent to sample]\n",
    "        [3, 0.4], \n",
    "        [5,0.8],\n",
    "        [18, 0.8]\n",
    "    ] \n",
    "    save_dir = str(data_clean)+'undersample_train.csv'\n",
    "    categorized_df_arr = undersample(categorized_df_arr ,categories_to_undersample,save_dir )\n"
   ]
  },
  {
   "cell_type": "markdown",
   "metadata": {},
   "source": [
    "# Oversample "
   ]
  },
  {
   "cell_type": "code",
   "execution_count": 15,
   "metadata": {},
   "outputs": [
    {
     "name": "stdout",
     "output_type": "stream",
     "text": [
      "<---- start oversampling ---->\n",
      "<--processing feature 0 before 18860-->\n",
      "<--processing feature 0 after 18860-->\n",
      "<--processing feature 2 before 11544-->\n",
      "<--processing feature 2 after 11544-->\n",
      "<--processing feature 3 before 5200-->\n",
      "<--processing feature 3 after 15600-->\n",
      "<--processing feature 6 before 18423-->\n",
      "<--processing feature 6 after 18423-->\n",
      "<--processing feature 7 before 11668-->\n",
      "<--processing feature 7 after 11668-->\n",
      "<--processing feature 8 before 18144-->\n",
      "<--processing feature 8 after 18144-->\n",
      "<--processing feature 9 before 16212-->\n",
      "<--processing feature 9 after 16212-->\n",
      "<--processing feature 10 before 19386-->\n",
      "<--processing feature 10 after 19386-->\n",
      "<--processing feature 11 before 16432-->\n",
      "<--processing feature 11 after 16432-->\n",
      "<--processing feature 13 before 17892-->\n",
      "<--processing feature 13 after 17892-->\n",
      "<--processing feature 14 before 19145-->\n",
      "<--processing feature 14 after 19145-->\n",
      "<--processing feature 15 before 19767-->\n",
      "<--processing feature 15 after 19767-->\n",
      "<--processing feature 16 before 17824-->\n",
      "<--processing feature 16 after 17824-->\n",
      "<--processing feature 17 before 19355-->\n",
      "<--processing feature 17 after 19355-->\n",
      "<--processing feature 19 before 13493-->\n",
      "<--processing feature 19 after 13493-->\n",
      "<--processing feature 20 before 19978-->\n",
      "<--processing feature 20 after 19978-->\n",
      "<--processing feature 21 before 10483-->\n",
      "<--processing feature 21 after 10483-->\n",
      "<--processing feature 22 before 15225-->\n",
      "<--processing feature 22 after 15225-->\n",
      "<--processing feature 23 before 18381-->\n",
      "<--processing feature 23 after 18381-->\n",
      "<--processing feature 24 before 17004-->\n",
      "<--processing feature 24 after 17004-->\n",
      "<--processing feature 27 before 16199-->\n",
      "<--processing feature 27 after 16199-->\n",
      "<--processing feature 28 before 19479-->\n",
      "<--processing feature 28 after 19479-->\n",
      "<--processing feature 29 before 16690-->\n",
      "<--processing feature 29 after 16690-->\n",
      "<--processing feature 30 before 18733-->\n",
      "<--processing feature 30 after 18733-->\n",
      "<--processing feature 33 before 19284-->\n",
      "<--processing feature 33 after 19284-->\n",
      "<--processing feature 34 before 14718-->\n",
      "<--processing feature 34 after 14718-->\n",
      "<--processing feature 36 before 19532-->\n",
      "<--processing feature 36 after 19532-->\n",
      "<--processing feature 37 before 18176-->\n",
      "<--processing feature 37 after 18176-->\n",
      "<--processing feature 38 before 18812-->\n",
      "<--processing feature 38 after 18812-->\n",
      "<--processing feature 39 before 19516-->\n",
      "<--processing feature 39 after 19516-->\n",
      "<--processing feature 40 before 19947-->\n",
      "<--processing feature 40 after 19947-->\n",
      "<--processing feature 41 before 19312-->\n",
      "<--processing feature 41 after 19312-->\n",
      "<--processing feature 42 before 10502-->\n",
      "<--processing feature 42 after 10502-->\n",
      "<--processing feature 43 before 18441-->\n",
      "<--processing feature 43 after 18441-->\n",
      "<--processing feature 44 before 19320-->\n",
      "<--processing feature 44 after 19320-->\n",
      "<--processing feature 45 before 19755-->\n",
      "<--processing feature 45 after 19755-->\n",
      "<--processing feature 46 before 19836-->\n",
      "<--processing feature 46 after 19836-->\n",
      "<--processing feature 47 before 19845-->\n",
      "<--processing feature 47 after 19845-->\n",
      "<--processing feature 48 before 19968-->\n",
      "<--processing feature 48 after 19968-->\n",
      "<--processing feature 49 before 19482-->\n",
      "<--processing feature 49 after 19482-->\n",
      "<--processing feature 50 before 19740-->\n",
      "<--processing feature 50 after 19740-->\n",
      "<--processing feature 51 before 19796-->\n",
      "<--processing feature 51 after 19796-->\n",
      "<--processing feature 52 before 19890-->\n",
      "<--processing feature 52 after 19890-->\n",
      "<--processing feature 53 before 19646-->\n",
      "<--processing feature 53 after 19646-->\n",
      "<--processing feature 54 before 19800-->\n",
      "<--processing feature 54 after 19800-->\n",
      "<--processing feature 55 before 19932-->\n",
      "<--processing feature 55 after 19932-->\n",
      "<--processing feature 56 before 19890-->\n",
      "<--processing feature 56 after 19890-->\n",
      "<--processing feature 57 before 19968-->\n",
      "<--processing feature 57 after 19968-->\n",
      "<---- end oversampling ---->\n"
     ]
    }
   ],
   "source": [
    "def oversample(categorized_df_arr,minVal):\n",
    "    print('<---- start oversampling ---->')\n",
    "    for i in range(0, len(categorized_df_arr)): \n",
    "        if len(categorized_df_arr[i]) < minVal:\n",
    "            print('<--processing feature '+str(i) +' before ' + str(len(categorized_df_arr[i])) + '-->')\n",
    "            curr_len=len(categorized_df_arr[i] )\n",
    "            temp = []\n",
    "            while(curr_len<minVal):\n",
    "                temp.append(categorized_df_arr[i])\n",
    "                curr_len = curr_len + len(categorized_df_arr[i])\n",
    "                \n",
    "            categorized_df_arr[i] = pd.concat(temp) # replace with pd.concat(temp)\n",
    "            print('<--processing feature '+str(i) +' after ' + str(len(categorized_df_arr[i])) + '-->')\n",
    "    print('<---- end oversampling ---->')\n",
    "    return categorized_df_arr\n",
    "\n",
    "\n",
    "if recont_feature_const['oversample']['go_in']:\n",
    "    minVal = 20000 \n",
    "    categorized_df_arr = oversample(categorized_df_arr,minVal)\n"
   ]
  },
  {
   "cell_type": "code",
   "execution_count": 16,
   "metadata": {},
   "outputs": [
    {
     "name": "stdout",
     "output_type": "stream",
     "text": [
      "<---- start merging ---->\n",
      "58\n",
      "<---- end merging ---->\n"
     ]
    }
   ],
   "source": [
    "print('<---- start merging ---->')\n",
    "print(len(categorized_df_arr))\n",
    "for i in range(0, len(categorized_df_arr)):\n",
    "    new_df = new_df.append(categorized_df_arr[i])\n",
    "print('<---- end merging ---->')"
   ]
  },
  {
   "cell_type": "code",
   "execution_count": 17,
   "metadata": {
    "scrolled": true
   },
   "outputs": [
    {
     "name": "stdout",
     "output_type": "stream",
     "text": [
      "[ 0  1  2  3  4  5  6  7  8  9 10 11 12 13 14 15 16 17 18 19 20 21 22 23\n",
      " 24 25 26 27 28 29 30 31 32 33 34 35 36 37 38 39 40 41 42 43 44 45 46 47\n",
      " 48 49 50 51 52 53 54 55 56 57]\n",
      "58\n"
     ]
    },
    {
     "data": {
      "image/png": "[encoded data removed]",
      "text/plain": [
       "<Figure size 432x288 with 1 Axes>"
      ]
     },
     "metadata": {},
     "output_type": "display_data"
    }
   ],
   "source": [
    "# new \n",
    "categories = new_df.Category\n",
    "print(categories.unique())\n",
    "print( len(categories.unique()) )\n",
    "gen_barchart(categories)\n"
   ]
  },
  {
   "cell_type": "code",
   "execution_count": 18,
   "metadata": {},
   "outputs": [
    {
     "name": "stdout",
     "output_type": "stream",
     "text": [
      "[ 0  1  2  3  4  5  6  7  8  9 10 11 12 13 14 15 16 17 18 19 20 21 22 23\n",
      " 24 25 26 27 28 29 30 31 32 33 34 35 36 37 38 39 40 41 42 43 44 45 46 47\n",
      " 48 49 50 51 52 53 54 55 56 57]\n",
      "58\n"
     ]
    },
    {
     "data": {
      "image/png": "[encoded data removed]",
      "text/plain": [
       "<Figure size 432x288 with 1 Axes>"
      ]
     },
     "metadata": {},
     "output_type": "display_data"
    }
   ],
   "source": [
    "# orginal \n",
    "categories = df.Category\n",
    "print( categories.unique() )\n",
    "print( len(categories.unique()) )\n",
    "gen_barchart(categories)"
   ]
  },
  {
   "cell_type": "markdown",
   "metadata": {
    "collapsed": true
   },
   "source": [
    "# Extract 'titles' from nonenglish.csv, to .txt file for free google translation"
   ]
  },
  {
   "cell_type": "code",
   "execution_count": 31,
   "metadata": {
    "collapsed": true
   },
   "outputs": [],
   "source": [
    "if recont_feature_const['extracttitles']['go_in']:\n",
    "    curr_df = pd.read_csv(data_clean+\"nonenglish.csv\")\n",
    "\n",
    "    # combine_str = curr_df['title'].str.cat(sep='/n')\n",
    "    with open(data_secondary+'nonenglish_title.txt', 'w') as the_file:\n",
    "        for row in curr_df['title']:\n",
    "            the_file.write(row + '\\n')\n",
    "    \n",
    "    "
   ]
  },
  {
   "cell_type": "markdown",
   "metadata": {},
   "source": [
    "# After translation of non-english titles.\n",
    "# Merge to translated_data then\n",
    "# Merge to train_translated.csv "
   ]
  },
  {
   "cell_type": "code",
   "execution_count": 104,
   "metadata": {},
   "outputs": [
    {
     "name": "stdout",
     "output_type": "stream",
     "text": [
      "(420435, 6)\n",
      "(246180, 6)\n"
     ]
    }
   ],
   "source": [
    "if recont_feature_const['mergetranslatedtitle']['go_in']:\n",
    "    nonenglish_translated = open( data_secondary+ \"translated.txt\").readlines()\n",
    "    nonenglish_df = pd.read_csv(data_secondary+ \"nonenglish.csv\")\n",
    "    english_df = pd.read_csv(data_secondary+ \"english.csv\")\n",
    "\n",
    "    for i in range(0, len(nonenglish_translated)):\n",
    "        nonenglish_translated[i] = nonenglish_translated[i].strip()\n",
    "        \n",
    "\n",
    "    nonenglish_translated = pd.DataFrame([i for i in nonenglish_translated], columns=['title'])\n",
    "    \n",
    "    nonenglish_df['title'] = nonenglish_translated\n",
    "\n",
    "    print(nonenglish_df.shape)\n",
    "    print(english_df.shape)\n",
    "    \n",
    "    train_translated['itemid'] = train_translated['itemid'].astype('int')\n",
    "    train_translated.sort_values(by='itemid') # sort df based on itemid\n",
    "\n",
    "    train_translated.to_csv(data_clean+'train_translated.csv', mode = 'w', index=False) "
   ]
  },
  {
   "cell_type": "code",
   "execution_count": null,
   "metadata": {
    "collapsed": true
   },
   "outputs": [],
   "source": []
  }
 ],
 "metadata": {
  "kernelspec": {
   "display_name": "Python 3",
   "language": "python",
   "name": "python3"
  },
  "language_info": {
   "codemirror_mode": {
    "name": "ipython",
    "version": 3
   },
   "file_extension": ".py",
   "mimetype": "text/x-python",
   "name": "python",
   "nbconvert_exporter": "python",
   "pygments_lexer": "ipython3",
   "version": "3.6.3"
  }
 },
 "nbformat": 4,
 "nbformat_minor": 2
}
